{
  "cells": [
    {
      "cell_type": "markdown",
      "metadata": {},
      "source": [
        "# Data Exploration for League of Legends Bayesian Network\n",
        "\n",
        "This notebook explores the match data, checks data quality, and validates discretization.\n"
      ]
    },
    {
      "cell_type": "code",
      "execution_count": null,
      "metadata": {},
      "outputs": [],
      "source": [
        "# Imports\n",
        "import sys\n",
        "sys.path.insert(0, '..')\n",
        "\n",
        "import pandas as pd\n",
        "import numpy as np\n",
        "import matplotlib.pyplot as plt\n",
        "import seaborn as sns\n",
        "\n",
        "from src import config, preprocessing, discretization, variables\n",
        "\n",
        "# Configure plotting\n",
        "plt.style.use('seaborn-v0_8-darkgrid')\n",
        "sns.set_palette(\"husl\")\n",
        "\n",
        "%matplotlib inline\n",
        "%load_ext autoreload\n",
        "%autoreload 2\n"
      ]
    },
    {
      "cell_type": "markdown",
      "metadata": {},
      "source": [
        "## 1. Load Raw Data\n",
        "\n",
        "Let's start by loading a sample of the raw match data.\n"
      ]
    },
    {
      "cell_type": "code",
      "execution_count": null,
      "metadata": {},
      "outputs": [],
      "source": [
        "# Load a sample of raw data for exploration (use 5000 samples for speed)\n",
        "sample_size = 5000\n",
        "raw_data = preprocessing.load_raw_match_data(sample_size=sample_size)\n",
        "\n",
        "print(f\"Loaded {len(raw_data)} matches\")\n",
        "print(f\"Columns: {len(raw_data.columns)}\")\n",
        "print(f\"\\nFirst few columns: {list(raw_data.columns)[:20]}\")\n"
      ]
    },
    {
      "cell_type": "markdown",
      "metadata": {},
      "source": [
        "## 2. Extract Team Features\n"
      ]
    },
    {
      "cell_type": "code",
      "execution_count": null,
      "metadata": {},
      "outputs": [],
      "source": [
        "# Extract team-level features\n",
        "features = preprocessing.extract_team_features(raw_data)\n",
        "\n",
        "print(f\"Extracted {len(features)} matches with {len(features.columns)} features\")\n",
        "print(f\"\\nFeatures: {list(features.columns)}\")\n",
        "print(f\"\\nFirst few rows:\")\n",
        "features.head()\n"
      ]
    },
    {
      "cell_type": "markdown",
      "metadata": {},
      "source": [
        "## 3. Basic Statistics\n"
      ]
    },
    {
      "cell_type": "code",
      "execution_count": null,
      "metadata": {},
      "outputs": [],
      "source": [
        "# Summary statistics\n",
        "features.describe()\n"
      ]
    },
    {
      "cell_type": "code",
      "execution_count": null,
      "metadata": {},
      "outputs": [],
      "source": [
        "# Check for missing values\n",
        "print(\"Missing values:\")\n",
        "print(features.isnull().sum())\n",
        "print(f\"\\nTotal missing: {features.isnull().sum().sum()}\")\n"
      ]
    },
    {
      "cell_type": "markdown",
      "metadata": {},
      "source": [
        "## 4. Discretization\n"
      ]
    },
    {
      "cell_type": "code",
      "execution_count": null,
      "metadata": {},
      "outputs": [],
      "source": [
        "# Apply discretization\n",
        "features_clean = features.drop(columns=['matchId', 'gameDuration'], errors='ignore')\n",
        "discretized = discretization.discretize_all_variables(features_clean.copy())\n",
        "\n",
        "print(\"Discretized data:\")\n",
        "discretized.head(10)\n"
      ]
    },
    {
      "cell_type": "code",
      "execution_count": null,
      "metadata": {},
      "outputs": [],
      "source": [
        "# Get discretization summary\n",
        "summary = discretization.get_discretization_summary(discretized)\n",
        "print(\"\\nDiscretization Summary:\")\n",
        "print(summary.to_string(index=False))\n"
      ]
    },
    {
      "cell_type": "markdown",
      "metadata": {},
      "source": [
        "## 5. Variable Distributions\n"
      ]
    },
    {
      "cell_type": "code",
      "execution_count": null,
      "metadata": {},
      "outputs": [],
      "source": [
        "# Plot distributions\n",
        "from src.visualize import plot_variable_distributions\n",
        "\n",
        "fig = plot_variable_distributions(discretized, \"Sample Data\")\n",
        "plt.show()\n"
      ]
    },
    {
      "cell_type": "markdown",
      "metadata": {},
      "source": [
        "## 6. Win Rate Analysis\n"
      ]
    },
    {
      "cell_type": "code",
      "execution_count": null,
      "metadata": {},
      "outputs": [],
      "source": [
        "# Win rate by different factors\n",
        "fig, axes = plt.subplots(2, 2, figsize=(14, 10))\n",
        "\n",
        "# Win rate by First Blood\n",
        "fb_win = discretized.groupby('FB')['Win'].apply(lambda x: (x == '1').mean())\n",
        "fb_win.plot(kind='bar', ax=axes[0, 0], color='skyblue')\n",
        "axes[0, 0].set_title('Win Rate by First Blood')\n",
        "axes[0, 0].set_ylabel('Win Rate')\n",
        "axes[0, 0].set_ylim([0, 1])\n",
        "\n",
        "# Win rate by First Tower\n",
        "ft_win = discretized.groupby('FT')['Win'].apply(lambda x: (x == '1').mean())\n",
        "ft_win.plot(kind='bar', ax=axes[0, 1], color='lightcoral')\n",
        "axes[0, 1].set_title('Win Rate by First Tower')\n",
        "axes[0, 1].set_ylabel('Win Rate')\n",
        "axes[0, 1].set_ylim([0, 1])\n",
        "\n",
        "# Win rate by Gold20\n",
        "gold_win = discretized.groupby('Gold20')['Win'].apply(lambda x: (x == '1').mean())\n",
        "gold_win.plot(kind='bar', ax=axes[1, 0], color='lightgreen')\n",
        "axes[1, 0].set_title('Win Rate by Gold Difference @20min')\n",
        "axes[1, 0].set_ylabel('Win Rate')\n",
        "axes[1, 0].set_ylim([0, 1])\n",
        "\n",
        "# Win rate by Baron\n",
        "baron_win = discretized.groupby('Baron')['Win'].apply(lambda x: (x == '1').mean())\n",
        "baron_win.plot(kind='bar', ax=axes[1, 1], color='gold')\n",
        "axes[1, 1].set_title('Win Rate by Baron Kills')\n",
        "axes[1, 1].set_ylabel('Win Rate')\n",
        "axes[1, 1].set_ylim([0, 1])\n",
        "\n",
        "plt.tight_layout()\n",
        "plt.show()\n"
      ]
    },
    {
      "cell_type": "markdown",
      "metadata": {},
      "source": [
        "## 7. Correlation Analysis\n"
      ]
    },
    {
      "cell_type": "code",
      "execution_count": null,
      "metadata": {},
      "outputs": [],
      "source": [
        "# Encode categorical variables as integers for correlation\n",
        "from sklearn.preprocessing import LabelEncoder\n",
        "\n",
        "encoded_data = discretized.copy()\n",
        "for col in encoded_data.columns:\n",
        "    le = LabelEncoder()\n",
        "    encoded_data[col] = le.fit_transform(encoded_data[col].astype(str))\n",
        "\n",
        "# Compute correlation matrix\n",
        "corr = encoded_data.corr()\n",
        "\n",
        "# Plot heatmap\n",
        "plt.figure(figsize=(10, 8))\n",
        "sns.heatmap(corr, annot=True, fmt='.2f', cmap='coolwarm', center=0, \n",
        "            square=True, linewidths=1)\n",
        "plt.title('Correlation Matrix of Discretized Variables', fontsize=14, fontweight='bold')\n",
        "plt.tight_layout()\n",
        "plt.show()\n"
      ]
    },
    {
      "cell_type": "markdown",
      "metadata": {},
      "source": [
        "## 8. Rank Distribution\n"
      ]
    },
    {
      "cell_type": "code",
      "execution_count": null,
      "metadata": {},
      "outputs": [],
      "source": [
        "# Load match IDs and assign rank buckets\n",
        "match_ids = preprocessing.load_match_ids()\n",
        "features_with_rank = preprocessing.assign_rank_bucket(features, match_ids)\n",
        "\n",
        "print(\"Rank distribution:\")\n",
        "print(features_with_rank['rank_bucket'].value_counts())\n",
        "\n",
        "# Plot\n",
        "features_with_rank['rank_bucket'].value_counts().plot(kind='bar', color='steelblue')\n",
        "plt.title('Match Distribution by Rank')\n",
        "plt.xlabel('Rank')\n",
        "plt.ylabel('Number of Matches')\n",
        "plt.xticks(rotation=0)\n",
        "plt.tight_layout()\n",
        "plt.show()\n"
      ]
    },
    {
      "cell_type": "markdown",
      "metadata": {},
      "source": [
        "## Conclusion\n",
        "\n",
        "The data quality looks good:\n",
        "- Minimal missing values\n",
        "- Balanced class distribution (Win should be ~50%)\n",
        "- Clear relationships between objectives and outcomes\n",
        "- Sufficient samples across rank tiers\n",
        "\n",
        "Ready for structure learning!\n"
      ]
    }
  ],
  "metadata": {
    "language_info": {
      "name": "python"
    }
  },
  "nbformat": 4,
  "nbformat_minor": 2
}
