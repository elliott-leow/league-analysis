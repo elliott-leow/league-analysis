{
  "cells": [
    {
      "cell_type": "markdown",
      "metadata": {},
      "source": [
        "# Structure Learning with GES\n",
        "\n",
        "This notebook demonstrates running GES (Greedy Equivalence Search) on League of Legends match data to learn causal structures.\n"
      ]
    },
    {
      "cell_type": "code",
      "execution_count": null,
      "metadata": {},
      "outputs": [],
      "source": [
        "# Imports\n",
        "import sys\n",
        "sys.path.insert(0, '..')\n",
        "\n",
        "import pandas as pd\n",
        "import numpy as np\n",
        "import matplotlib.pyplot as plt\n",
        "\n",
        "from src import config, preprocessing, ges, parameters, queries, visualize\n",
        "\n",
        "%matplotlib inline\n",
        "%load_ext autoreload\n",
        "%autoreload 2\n",
        "\n",
        "print(\"Loaded modules successfully!\")\n"
      ]
    },
    {
      "cell_type": "markdown",
      "metadata": {},
      "source": [
        "## 1. Preprocess Data for a Specific Rank\n",
        "\n",
        "Let's start with Diamond rank as an example.\n"
      ]
    },
    {
      "cell_type": "code",
      "execution_count": null,
      "metadata": {},
      "outputs": [],
      "source": [
        "# Choose rank to analyze\n",
        "RANK = \"Diamond\"\n",
        "\n",
        "# Preprocess data (use small sample for quick demo)\n",
        "print(f\"Preprocessing data for {RANK}...\")\n",
        "data = preprocessing.preprocess_for_rank(RANK, sample_size=5000)\n",
        "\n",
        "print(f\"\\nDataset shape: {data.shape}\")\n",
        "print(f\"Variables: {list(data.columns)}\")\n",
        "print(f\"\\nFirst few rows:\")\n",
        "data.head()\n"
      ]
    },
    {
      "cell_type": "markdown",
      "metadata": {},
      "source": [
        "## 2. Run GES Structure Learning\n"
      ]
    },
    {
      "cell_type": "code",
      "execution_count": null,
      "metadata": {},
      "outputs": [],
      "source": [
        "# Run GES algorithm\n",
        "print(\"Running GES structure learning...\")\n",
        "print(\"This may take a minute...\")\n",
        "\n",
        "result = ges.fit_ges(data, use_constraints=True)\n",
        "\n",
        "print(f\"\\n✓ Structure learning complete!\")\n",
        "print(f\"  - Number of variables: {len(result['variables'])}\")\n",
        "print(f\"  - Number of edges: {result['n_edges']}\")\n",
        "print(f\"\\nLearned edges:\")\n",
        "for from_var, to_var, edge_type in result['edges']:\n",
        "    symbol = \"→\" if edge_type == \"directed\" else \"—\"\n",
        "    print(f\"  {from_var} {symbol} {to_var}\")\n"
      ]
    },
    {
      "cell_type": "markdown",
      "metadata": {},
      "source": [
        "## 3. Visualize the Learned Structure\n"
      ]
    },
    {
      "cell_type": "code",
      "execution_count": null,
      "metadata": {},
      "outputs": [],
      "source": [
        "# Visualize the CPDAG\n",
        "fig = visualize.plot_cpdag(\n",
        "    result['edges'],\n",
        "    result['variables'],\n",
        "    title=f\"Learned CPDAG - {RANK} ({result['n_edges']} edges)\",\n",
        "    layout=\"hierarchical\"\n",
        ")\n",
        "plt.show()\n"
      ]
    },
    {
      "cell_type": "markdown",
      "metadata": {},
      "source": [
        "## 4. Learn Parameters (CPTs)\n"
      ]
    },
    {
      "cell_type": "code",
      "execution_count": null,
      "metadata": {},
      "outputs": [],
      "source": [
        "# Learn CPTs from data\n",
        "print(\"Learning conditional probability tables...\")\n",
        "\n",
        "model = parameters.learn_parameters_from_ges(result, data)\n",
        "\n",
        "print(f\"✓ Parameter learning complete!\")\n",
        "print(f\"  - Nodes: {len(model.nodes())}\")\n",
        "print(f\"  - Edges: {len(model.edges())}\")\n",
        "print(f\"  - CPTs: {len(model.get_cpds())}\")\n",
        "\n",
        "# Validate CPTs\n",
        "validation = parameters.validate_cpts(model)\n",
        "if validation[\"valid\"]:\n",
        "    print(\"  - ✓ CPTs are valid\")\n",
        "else:\n",
        "    print(f\"  - ⚠ Validation warnings: {validation['warnings']}\")\n"
      ]
    },
    {
      "cell_type": "markdown",
      "metadata": {},
      "source": [
        "## 5. Inspect CPTs\n"
      ]
    },
    {
      "cell_type": "code",
      "execution_count": null,
      "metadata": {},
      "outputs": [],
      "source": [
        "# Show CPT for Win variable (most interesting)\n",
        "win_cpd = model.get_cpds('Win')\n",
        "print(\"CPT for Win variable:\")\n",
        "print(win_cpd)\n"
      ]
    },
    {
      "cell_type": "markdown",
      "metadata": {},
      "source": [
        "## 6. Run Probabilistic Queries\n"
      ]
    },
    {
      "cell_type": "code",
      "execution_count": null,
      "metadata": {},
      "outputs": [],
      "source": [
        "# Run example queries\n",
        "print(\"Running example queries...\\n\")\n",
        "\n",
        "query_results = queries.run_example_queries(model, RANK)\n"
      ]
    },
    {
      "cell_type": "code",
      "execution_count": null,
      "metadata": {},
      "outputs": [],
      "source": [
        "# Visualize query results\n",
        "fig, ax = plt.subplots(figsize=(10, 6))\n",
        "\n",
        "query_results['Query_Short'] = query_results['Query'].str[:30] + '...'\n",
        "colors = ['green' if p > 0.6 else 'orange' if p > 0.4 else 'red' \n",
        "          for p in query_results['P(Win=1)']]\n",
        "\n",
        "ax.barh(query_results['Query_Short'], query_results['P(Win=1)'], color=colors, alpha=0.7)\n",
        "ax.set_xlabel('P(Win=1 | Evidence)', fontsize=12)\n",
        "ax.set_ylabel('Query', fontsize=12)\n",
        "ax.set_title(f'Win Probability for Different Game States - {RANK}', \n",
        "             fontsize=14, fontweight='bold')\n",
        "ax.set_xlim([0, 1])\n",
        "ax.axvline(x=0.5, color='black', linestyle='--', linewidth=1, alpha=0.5)\n",
        "ax.grid(axis='x', alpha=0.3)\n",
        "\n",
        "plt.tight_layout()\n",
        "plt.show()\n"
      ]
    },
    {
      "cell_type": "markdown",
      "metadata": {},
      "source": [
        "## 7. Custom Queries\n"
      ]
    },
    {
      "cell_type": "code",
      "execution_count": null,
      "metadata": {},
      "outputs": [],
      "source": [
        "# Ask custom questions\n",
        "custom_queries = [\n",
        "    {\"name\": \"First Blood only\", \"evidence\": {\"FB\": 1}},\n",
        "    {\"name\": \"First Tower only\", \"evidence\": {\"FT\": 1}},\n",
        "    {\"name\": \"FB + FT\", \"evidence\": {\"FB\": 1, \"FT\": 1}},\n",
        "    {\"name\": \"High gold @20\", \"evidence\": {\"Gold20\": \"high\"}},\n",
        "    {\"name\": \"Low gold @20\", \"evidence\": {\"Gold20\": \"low\"}},\n",
        "    {\"name\": \"Baron + High Gold\", \"evidence\": {\"Baron\": \"1\", \"Gold20\": \"high\"}},\n",
        "    {\"name\": \"Multiple Drakes\", \"evidence\": {\"Drakes\": \"3\"}},\n",
        "]\n",
        "\n",
        "custom_results = queries.query_multiple(custom_queries, model)\n",
        "print(\"\\nCustom Query Results:\")\n",
        "print(custom_results.to_string(index=False))\n"
      ]
    },
    {
      "cell_type": "markdown",
      "metadata": {},
      "source": [
        "## 8. Analyze Variable Influence on Win\n",
        "\n",
        "Which variables have the strongest impact on winning?\n"
      ]
    },
    {
      "cell_type": "code",
      "execution_count": null,
      "metadata": {},
      "outputs": [],
      "source": [
        "# Analyze variable influence\n",
        "influence = queries.analyze_variable_influence(\"Win\", model, data)\n",
        "\n",
        "print(\"\\nTop 10 Most Influential Variable States:\")\n",
        "print(influence.head(10).to_string(index=False))\n",
        "\n",
        "print(\"\\nBottom 10 (Most Negative Impact):\")\n",
        "print(influence.tail(10).to_string(index=False))\n"
      ]
    },
    {
      "cell_type": "code",
      "execution_count": null,
      "metadata": {},
      "outputs": [],
      "source": [
        "# Visualize influence\n",
        "top_influences = pd.concat([influence.head(10), influence.tail(10)])\n",
        "\n",
        "fig, ax = plt.subplots(figsize=(10, 8))\n",
        "\n",
        "colors = ['green' if x > 0 else 'red' for x in top_influences['Influence']]\n",
        "y_labels = [f\"{row['Variable']}={row['Value']}\" for _, row in top_influences.iterrows()]\n",
        "\n",
        "ax.barh(y_labels, top_influences['Influence'], color=colors, alpha=0.7)\n",
        "ax.set_xlabel('Influence on P(Win=1)', fontsize=12)\n",
        "ax.set_ylabel('Variable State', fontsize=12)\n",
        "ax.set_title(f'Variable Influence on Win Probability - {RANK}', \n",
        "             fontsize=14, fontweight='bold')\n",
        "ax.axvline(x=0, color='black', linestyle='-', linewidth=1)\n",
        "ax.grid(axis='x', alpha=0.3)\n",
        "\n",
        "plt.tight_layout()\n",
        "plt.show()\n"
      ]
    },
    {
      "cell_type": "markdown",
      "metadata": {},
      "source": [
        "## Conclusion\n",
        "\n",
        "Successfully demonstrated:\n",
        "1. ✓ Data preprocessing and discretization\n",
        "2. ✓ GES structure learning with domain constraints\n",
        "3. ✓ Parameter estimation (CPT learning)\n",
        "4. ✓ Probabilistic inference and queries\n",
        "5. ✓ Variable influence analysis\n",
        "\n",
        "Next steps:\n",
        "- Run for all ranks\n",
        "- Compare structures across ranks\n",
        "- Generate comprehensive report\n",
        "\n",
        "Use the CLI for full pipeline:\n",
        "```bash\n",
        "python -m src.cli full --ranks Diamond Platinum Master Elite\n",
        "```\n"
      ]
    }
  ],
  "metadata": {
    "language_info": {
      "name": "python"
    }
  },
  "nbformat": 4,
  "nbformat_minor": 2
}
